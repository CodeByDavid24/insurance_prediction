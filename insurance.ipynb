{
 "cells": [
  {
   "cell_type": "code",
   "execution_count": 113,
   "metadata": {},
   "outputs": [],
   "source": [
    "import pandas as pd"
   ]
  },
  {
   "cell_type": "code",
   "execution_count": 114,
   "metadata": {},
   "outputs": [],
   "source": [
    "df = pd.read_csv('./data/insurance_dataset.csv')"
   ]
  },
  {
   "cell_type": "code",
   "execution_count": 115,
   "metadata": {},
   "outputs": [
    {
     "data": {
      "text/html": [
       "<div>\n",
       "<style scoped>\n",
       "    .dataframe tbody tr th:only-of-type {\n",
       "        vertical-align: middle;\n",
       "    }\n",
       "\n",
       "    .dataframe tbody tr th {\n",
       "        vertical-align: top;\n",
       "    }\n",
       "\n",
       "    .dataframe thead th {\n",
       "        text-align: right;\n",
       "    }\n",
       "</style>\n",
       "<table border=\"1\" class=\"dataframe\">\n",
       "  <thead>\n",
       "    <tr style=\"text-align: right;\">\n",
       "      <th></th>\n",
       "      <th>age</th>\n",
       "      <th>gender</th>\n",
       "      <th>bmi</th>\n",
       "      <th>children</th>\n",
       "      <th>smoker</th>\n",
       "      <th>region</th>\n",
       "      <th>medical_history</th>\n",
       "      <th>family_medical_history</th>\n",
       "      <th>exercise_frequency</th>\n",
       "      <th>occupation</th>\n",
       "      <th>coverage_level</th>\n",
       "      <th>charges</th>\n",
       "    </tr>\n",
       "  </thead>\n",
       "  <tbody>\n",
       "    <tr>\n",
       "      <th>0</th>\n",
       "      <td>46</td>\n",
       "      <td>male</td>\n",
       "      <td>21.45</td>\n",
       "      <td>5</td>\n",
       "      <td>yes</td>\n",
       "      <td>southeast</td>\n",
       "      <td>Diabetes</td>\n",
       "      <td>NaN</td>\n",
       "      <td>Never</td>\n",
       "      <td>Blue collar</td>\n",
       "      <td>Premium</td>\n",
       "      <td>20460.307669</td>\n",
       "    </tr>\n",
       "    <tr>\n",
       "      <th>1</th>\n",
       "      <td>25</td>\n",
       "      <td>female</td>\n",
       "      <td>25.38</td>\n",
       "      <td>2</td>\n",
       "      <td>yes</td>\n",
       "      <td>northwest</td>\n",
       "      <td>Diabetes</td>\n",
       "      <td>High blood pressure</td>\n",
       "      <td>Occasionally</td>\n",
       "      <td>White collar</td>\n",
       "      <td>Premium</td>\n",
       "      <td>20390.899218</td>\n",
       "    </tr>\n",
       "    <tr>\n",
       "      <th>2</th>\n",
       "      <td>38</td>\n",
       "      <td>male</td>\n",
       "      <td>44.88</td>\n",
       "      <td>2</td>\n",
       "      <td>yes</td>\n",
       "      <td>southwest</td>\n",
       "      <td>NaN</td>\n",
       "      <td>High blood pressure</td>\n",
       "      <td>Occasionally</td>\n",
       "      <td>Blue collar</td>\n",
       "      <td>Premium</td>\n",
       "      <td>20204.476302</td>\n",
       "    </tr>\n",
       "    <tr>\n",
       "      <th>3</th>\n",
       "      <td>25</td>\n",
       "      <td>male</td>\n",
       "      <td>19.89</td>\n",
       "      <td>0</td>\n",
       "      <td>no</td>\n",
       "      <td>northwest</td>\n",
       "      <td>NaN</td>\n",
       "      <td>Diabetes</td>\n",
       "      <td>Rarely</td>\n",
       "      <td>White collar</td>\n",
       "      <td>Standard</td>\n",
       "      <td>11789.029843</td>\n",
       "    </tr>\n",
       "    <tr>\n",
       "      <th>4</th>\n",
       "      <td>49</td>\n",
       "      <td>male</td>\n",
       "      <td>38.21</td>\n",
       "      <td>3</td>\n",
       "      <td>yes</td>\n",
       "      <td>northwest</td>\n",
       "      <td>Diabetes</td>\n",
       "      <td>High blood pressure</td>\n",
       "      <td>Rarely</td>\n",
       "      <td>White collar</td>\n",
       "      <td>Standard</td>\n",
       "      <td>19268.309838</td>\n",
       "    </tr>\n",
       "    <tr>\n",
       "      <th>...</th>\n",
       "      <td>...</td>\n",
       "      <td>...</td>\n",
       "      <td>...</td>\n",
       "      <td>...</td>\n",
       "      <td>...</td>\n",
       "      <td>...</td>\n",
       "      <td>...</td>\n",
       "      <td>...</td>\n",
       "      <td>...</td>\n",
       "      <td>...</td>\n",
       "      <td>...</td>\n",
       "      <td>...</td>\n",
       "    </tr>\n",
       "    <tr>\n",
       "      <th>999995</th>\n",
       "      <td>59</td>\n",
       "      <td>male</td>\n",
       "      <td>46.67</td>\n",
       "      <td>2</td>\n",
       "      <td>no</td>\n",
       "      <td>northeast</td>\n",
       "      <td>High blood pressure</td>\n",
       "      <td>NaN</td>\n",
       "      <td>Frequently</td>\n",
       "      <td>Student</td>\n",
       "      <td>Basic</td>\n",
       "      <td>11584.134900</td>\n",
       "    </tr>\n",
       "    <tr>\n",
       "      <th>999996</th>\n",
       "      <td>33</td>\n",
       "      <td>male</td>\n",
       "      <td>36.83</td>\n",
       "      <td>2</td>\n",
       "      <td>no</td>\n",
       "      <td>northeast</td>\n",
       "      <td>NaN</td>\n",
       "      <td>High blood pressure</td>\n",
       "      <td>Frequently</td>\n",
       "      <td>Unemployed</td>\n",
       "      <td>Basic</td>\n",
       "      <td>9834.871456</td>\n",
       "    </tr>\n",
       "    <tr>\n",
       "      <th>999997</th>\n",
       "      <td>39</td>\n",
       "      <td>male</td>\n",
       "      <td>39.84</td>\n",
       "      <td>0</td>\n",
       "      <td>yes</td>\n",
       "      <td>northeast</td>\n",
       "      <td>Heart disease</td>\n",
       "      <td>High blood pressure</td>\n",
       "      <td>Rarely</td>\n",
       "      <td>Blue collar</td>\n",
       "      <td>Standard</td>\n",
       "      <td>22076.632856</td>\n",
       "    </tr>\n",
       "    <tr>\n",
       "      <th>999998</th>\n",
       "      <td>37</td>\n",
       "      <td>female</td>\n",
       "      <td>45.06</td>\n",
       "      <td>4</td>\n",
       "      <td>yes</td>\n",
       "      <td>northeast</td>\n",
       "      <td>High blood pressure</td>\n",
       "      <td>Diabetes</td>\n",
       "      <td>Occasionally</td>\n",
       "      <td>Unemployed</td>\n",
       "      <td>Premium</td>\n",
       "      <td>20297.618728</td>\n",
       "    </tr>\n",
       "    <tr>\n",
       "      <th>999999</th>\n",
       "      <td>41</td>\n",
       "      <td>male</td>\n",
       "      <td>30.02</td>\n",
       "      <td>2</td>\n",
       "      <td>yes</td>\n",
       "      <td>northeast</td>\n",
       "      <td>Diabetes</td>\n",
       "      <td>Heart disease</td>\n",
       "      <td>Occasionally</td>\n",
       "      <td>Blue collar</td>\n",
       "      <td>Standard</td>\n",
       "      <td>23429.725030</td>\n",
       "    </tr>\n",
       "  </tbody>\n",
       "</table>\n",
       "<p>1000000 rows × 12 columns</p>\n",
       "</div>"
      ],
      "text/plain": [
       "        age  gender    bmi  children smoker     region      medical_history  \\\n",
       "0        46    male  21.45         5    yes  southeast             Diabetes   \n",
       "1        25  female  25.38         2    yes  northwest             Diabetes   \n",
       "2        38    male  44.88         2    yes  southwest                  NaN   \n",
       "3        25    male  19.89         0     no  northwest                  NaN   \n",
       "4        49    male  38.21         3    yes  northwest             Diabetes   \n",
       "...     ...     ...    ...       ...    ...        ...                  ...   \n",
       "999995   59    male  46.67         2     no  northeast  High blood pressure   \n",
       "999996   33    male  36.83         2     no  northeast                  NaN   \n",
       "999997   39    male  39.84         0    yes  northeast        Heart disease   \n",
       "999998   37  female  45.06         4    yes  northeast  High blood pressure   \n",
       "999999   41    male  30.02         2    yes  northeast             Diabetes   \n",
       "\n",
       "       family_medical_history exercise_frequency    occupation coverage_level  \\\n",
       "0                         NaN              Never   Blue collar        Premium   \n",
       "1         High blood pressure       Occasionally  White collar        Premium   \n",
       "2         High blood pressure       Occasionally   Blue collar        Premium   \n",
       "3                    Diabetes             Rarely  White collar       Standard   \n",
       "4         High blood pressure             Rarely  White collar       Standard   \n",
       "...                       ...                ...           ...            ...   \n",
       "999995                    NaN         Frequently       Student          Basic   \n",
       "999996    High blood pressure         Frequently    Unemployed          Basic   \n",
       "999997    High blood pressure             Rarely   Blue collar       Standard   \n",
       "999998               Diabetes       Occasionally    Unemployed        Premium   \n",
       "999999          Heart disease       Occasionally   Blue collar       Standard   \n",
       "\n",
       "             charges  \n",
       "0       20460.307669  \n",
       "1       20390.899218  \n",
       "2       20204.476302  \n",
       "3       11789.029843  \n",
       "4       19268.309838  \n",
       "...              ...  \n",
       "999995  11584.134900  \n",
       "999996   9834.871456  \n",
       "999997  22076.632856  \n",
       "999998  20297.618728  \n",
       "999999  23429.725030  \n",
       "\n",
       "[1000000 rows x 12 columns]"
      ]
     },
     "execution_count": 115,
     "metadata": {},
     "output_type": "execute_result"
    }
   ],
   "source": [
    "df"
   ]
  },
  {
   "cell_type": "code",
   "execution_count": 116,
   "metadata": {},
   "outputs": [
    {
     "data": {
      "text/plain": [
       "(1000000, 12)"
      ]
     },
     "execution_count": 116,
     "metadata": {},
     "output_type": "execute_result"
    }
   ],
   "source": [
    "df.shape"
   ]
  },
  {
   "cell_type": "code",
   "execution_count": 117,
   "metadata": {},
   "outputs": [
    {
     "data": {
      "text/plain": [
       "age                         int64\n",
       "gender                     object\n",
       "bmi                       float64\n",
       "children                    int64\n",
       "smoker                     object\n",
       "region                     object\n",
       "medical_history            object\n",
       "family_medical_history     object\n",
       "exercise_frequency         object\n",
       "occupation                 object\n",
       "coverage_level             object\n",
       "charges                   float64\n",
       "dtype: object"
      ]
     },
     "execution_count": 117,
     "metadata": {},
     "output_type": "execute_result"
    }
   ],
   "source": [
    "df.dtypes"
   ]
  },
  {
   "cell_type": "code",
   "execution_count": 118,
   "metadata": {},
   "outputs": [
    {
     "data": {
      "text/plain": [
       "age                            0\n",
       "gender                         0\n",
       "bmi                            0\n",
       "children                       0\n",
       "smoker                         0\n",
       "region                         0\n",
       "medical_history           250762\n",
       "family_medical_history    250404\n",
       "exercise_frequency             0\n",
       "occupation                     0\n",
       "coverage_level                 0\n",
       "charges                        0\n",
       "dtype: int64"
      ]
     },
     "execution_count": 118,
     "metadata": {},
     "output_type": "execute_result"
    }
   ],
   "source": [
    "df.isnull().sum()"
   ]
  },
  {
   "cell_type": "code",
   "execution_count": 119,
   "metadata": {},
   "outputs": [
    {
     "name": "stdout",
     "output_type": "stream",
     "text": [
      "Number of unique values: ['Diabetes' nan 'High blood pressure' 'Heart disease']\n"
     ]
    }
   ],
   "source": [
    "unique_values = df['medical_history'].unique()\n",
    "print(f\"Number of unique values: {unique_values}\")"
   ]
  },
  {
   "cell_type": "code",
   "execution_count": 120,
   "metadata": {},
   "outputs": [
    {
     "name": "stdout",
     "output_type": "stream",
     "text": [
      "medical_history\n",
      "Heart disease          250121\n",
      "High blood pressure    249782\n",
      "Diabetes               249335\n",
      "Name: count, dtype: int64\n"
     ]
    }
   ],
   "source": [
    "value_counts = df['medical_history'].value_counts()\n",
    "print(value_counts)"
   ]
  },
  {
   "cell_type": "code",
   "execution_count": 121,
   "metadata": {},
   "outputs": [],
   "source": [
    "df['medical_history'] = df['medical_history'].fillna('Unknown')"
   ]
  },
  {
   "cell_type": "code",
   "execution_count": 122,
   "metadata": {},
   "outputs": [
    {
     "name": "stdout",
     "output_type": "stream",
     "text": [
      "Number of unique values: [nan 'High blood pressure' 'Diabetes' 'Heart disease']\n"
     ]
    }
   ],
   "source": [
    "unique_values = df['family_medical_history'].unique()\n",
    "print(f\"Number of unique values: {unique_values}\")"
   ]
  },
  {
   "cell_type": "code",
   "execution_count": 123,
   "metadata": {},
   "outputs": [
    {
     "name": "stdout",
     "output_type": "stream",
     "text": [
      "family_medical_history\n",
      "Heart disease          250035\n",
      "High blood pressure    249824\n",
      "Diabetes               249737\n",
      "Name: count, dtype: int64\n"
     ]
    }
   ],
   "source": [
    "value_counts = df['family_medical_history'].value_counts()\n",
    "print(value_counts)"
   ]
  },
  {
   "cell_type": "code",
   "execution_count": 124,
   "metadata": {},
   "outputs": [],
   "source": [
    "df['family_medical_history'] = df['family_medical_history'].fillna('Unknown')"
   ]
  },
  {
   "cell_type": "code",
   "execution_count": 125,
   "metadata": {},
   "outputs": [
    {
     "data": {
      "text/plain": [
       "age                       0\n",
       "gender                    0\n",
       "bmi                       0\n",
       "children                  0\n",
       "smoker                    0\n",
       "region                    0\n",
       "medical_history           0\n",
       "family_medical_history    0\n",
       "exercise_frequency        0\n",
       "occupation                0\n",
       "coverage_level            0\n",
       "charges                   0\n",
       "dtype: int64"
      ]
     },
     "execution_count": 125,
     "metadata": {},
     "output_type": "execute_result"
    }
   ],
   "source": [
    "df.isnull().sum()"
   ]
  },
  {
   "cell_type": "code",
   "execution_count": 126,
   "metadata": {},
   "outputs": [
    {
     "name": "stdout",
     "output_type": "stream",
     "text": [
      "gender\n",
      "male      500107\n",
      "female    499893\n",
      "Name: count, dtype: int64\n"
     ]
    }
   ],
   "source": [
    "value_counts = df['gender'].value_counts()\n",
    "print(value_counts)"
   ]
  },
  {
   "cell_type": "code",
   "execution_count": 127,
   "metadata": {},
   "outputs": [
    {
     "name": "stdout",
     "output_type": "stream",
     "text": [
      "        age  gender    bmi  children smoker     region      medical_history  \\\n",
      "0        46       0  21.45         5    yes  southeast             Diabetes   \n",
      "1        25       1  25.38         2    yes  northwest             Diabetes   \n",
      "2        38       0  44.88         2    yes  southwest              Unknown   \n",
      "3        25       0  19.89         0     no  northwest              Unknown   \n",
      "4        49       0  38.21         3    yes  northwest             Diabetes   \n",
      "...     ...     ...    ...       ...    ...        ...                  ...   \n",
      "999995   59       0  46.67         2     no  northeast  High blood pressure   \n",
      "999996   33       0  36.83         2     no  northeast              Unknown   \n",
      "999997   39       0  39.84         0    yes  northeast        Heart disease   \n",
      "999998   37       1  45.06         4    yes  northeast  High blood pressure   \n",
      "999999   41       0  30.02         2    yes  northeast             Diabetes   \n",
      "\n",
      "       family_medical_history exercise_frequency    occupation coverage_level  \\\n",
      "0                     Unknown              Never   Blue collar        Premium   \n",
      "1         High blood pressure       Occasionally  White collar        Premium   \n",
      "2         High blood pressure       Occasionally   Blue collar        Premium   \n",
      "3                    Diabetes             Rarely  White collar       Standard   \n",
      "4         High blood pressure             Rarely  White collar       Standard   \n",
      "...                       ...                ...           ...            ...   \n",
      "999995                Unknown         Frequently       Student          Basic   \n",
      "999996    High blood pressure         Frequently    Unemployed          Basic   \n",
      "999997    High blood pressure             Rarely   Blue collar       Standard   \n",
      "999998               Diabetes       Occasionally    Unemployed        Premium   \n",
      "999999          Heart disease       Occasionally   Blue collar       Standard   \n",
      "\n",
      "             charges  \n",
      "0       20460.307669  \n",
      "1       20390.899218  \n",
      "2       20204.476302  \n",
      "3       11789.029843  \n",
      "4       19268.309838  \n",
      "...              ...  \n",
      "999995  11584.134900  \n",
      "999996   9834.871456  \n",
      "999997  22076.632856  \n",
      "999998  20297.618728  \n",
      "999999  23429.725030  \n",
      "\n",
      "[1000000 rows x 12 columns]\n"
     ]
    }
   ],
   "source": [
    "df['gender'] = df['gender'].map({'male': 0, 'female': 1})\n",
    "print(df)"
   ]
  },
  {
   "cell_type": "code",
   "execution_count": 128,
   "metadata": {},
   "outputs": [
    {
     "name": "stdout",
     "output_type": "stream",
     "text": [
      "smoker\n",
      "yes    500129\n",
      "no     499871\n",
      "Name: count, dtype: int64\n"
     ]
    }
   ],
   "source": [
    "value_counts = df['smoker'].value_counts()\n",
    "print(value_counts)"
   ]
  },
  {
   "cell_type": "code",
   "execution_count": 129,
   "metadata": {},
   "outputs": [
    {
     "name": "stdout",
     "output_type": "stream",
     "text": [
      "        age  gender    bmi  children  smoker     region      medical_history  \\\n",
      "0        46       0  21.45         5       0  southeast             Diabetes   \n",
      "1        25       1  25.38         2       0  northwest             Diabetes   \n",
      "2        38       0  44.88         2       0  southwest              Unknown   \n",
      "3        25       0  19.89         0       1  northwest              Unknown   \n",
      "4        49       0  38.21         3       0  northwest             Diabetes   \n",
      "...     ...     ...    ...       ...     ...        ...                  ...   \n",
      "999995   59       0  46.67         2       1  northeast  High blood pressure   \n",
      "999996   33       0  36.83         2       1  northeast              Unknown   \n",
      "999997   39       0  39.84         0       0  northeast        Heart disease   \n",
      "999998   37       1  45.06         4       0  northeast  High blood pressure   \n",
      "999999   41       0  30.02         2       0  northeast             Diabetes   \n",
      "\n",
      "       family_medical_history exercise_frequency    occupation coverage_level  \\\n",
      "0                     Unknown              Never   Blue collar        Premium   \n",
      "1         High blood pressure       Occasionally  White collar        Premium   \n",
      "2         High blood pressure       Occasionally   Blue collar        Premium   \n",
      "3                    Diabetes             Rarely  White collar       Standard   \n",
      "4         High blood pressure             Rarely  White collar       Standard   \n",
      "...                       ...                ...           ...            ...   \n",
      "999995                Unknown         Frequently       Student          Basic   \n",
      "999996    High blood pressure         Frequently    Unemployed          Basic   \n",
      "999997    High blood pressure             Rarely   Blue collar       Standard   \n",
      "999998               Diabetes       Occasionally    Unemployed        Premium   \n",
      "999999          Heart disease       Occasionally   Blue collar       Standard   \n",
      "\n",
      "             charges  \n",
      "0       20460.307669  \n",
      "1       20390.899218  \n",
      "2       20204.476302  \n",
      "3       11789.029843  \n",
      "4       19268.309838  \n",
      "...              ...  \n",
      "999995  11584.134900  \n",
      "999996   9834.871456  \n",
      "999997  22076.632856  \n",
      "999998  20297.618728  \n",
      "999999  23429.725030  \n",
      "\n",
      "[1000000 rows x 12 columns]\n"
     ]
    }
   ],
   "source": [
    "df['smoker'] = df['smoker'].map({'yes': 0, 'no': 1})\n",
    "# Check the result\n",
    "print(df)"
   ]
  },
  {
   "cell_type": "code",
   "execution_count": 130,
   "metadata": {},
   "outputs": [
    {
     "name": "stdout",
     "output_type": "stream",
     "text": [
      "Number of unique values: ['southeast' 'northwest' 'southwest' 'northeast']\n"
     ]
    }
   ],
   "source": [
    "unique_values = df['region'].unique()\n",
    "print(f\"Number of unique values: {unique_values}\")"
   ]
  },
  {
   "cell_type": "code",
   "execution_count": 131,
   "metadata": {},
   "outputs": [
    {
     "name": "stdout",
     "output_type": "stream",
     "text": [
      "Number of unique values: ['Blue collar' 'White collar' 'Student' 'Unemployed']\n"
     ]
    }
   ],
   "source": [
    "unique_values = df['occupation'].unique()\n",
    "print(f\"Number of unique values: {unique_values}\")"
   ]
  },
  {
   "cell_type": "code",
   "execution_count": 132,
   "metadata": {},
   "outputs": [
    {
     "name": "stdout",
     "output_type": "stream",
     "text": [
      "Number of unique values: ['Never' 'Occasionally' 'Rarely' 'Frequently']\n"
     ]
    }
   ],
   "source": [
    "unique_values = df['exercise_frequency'].unique()\n",
    "print(f\"Number of unique values: {unique_values}\")"
   ]
  },
  {
   "cell_type": "code",
   "execution_count": 133,
   "metadata": {},
   "outputs": [
    {
     "name": "stdout",
     "output_type": "stream",
     "text": [
      "Number of unique values: ['Premium' 'Standard' 'Basic']\n"
     ]
    }
   ],
   "source": [
    "unique_values = df['coverage_level'].unique()\n",
    "print(f\"Number of unique values: {unique_values}\")"
   ]
  },
  {
   "cell_type": "code",
   "execution_count": 134,
   "metadata": {},
   "outputs": [],
   "source": [
    "df = pd.get_dummies(df, columns=['region', 'occupation','medical_history','family_medical_history','exercise_frequency','coverage_level'], drop_first=False)"
   ]
  },
  {
   "cell_type": "code",
   "execution_count": 135,
   "metadata": {},
   "outputs": [
    {
     "data": {
      "text/plain": [
       "age                                             int64\n",
       "gender                                          int64\n",
       "bmi                                           float64\n",
       "children                                        int64\n",
       "smoker                                          int64\n",
       "charges                                       float64\n",
       "region_northeast                                 bool\n",
       "region_northwest                                 bool\n",
       "region_southeast                                 bool\n",
       "region_southwest                                 bool\n",
       "occupation_Blue collar                           bool\n",
       "occupation_Student                               bool\n",
       "occupation_Unemployed                            bool\n",
       "occupation_White collar                          bool\n",
       "medical_history_Diabetes                         bool\n",
       "medical_history_Heart disease                    bool\n",
       "medical_history_High blood pressure              bool\n",
       "medical_history_Unknown                          bool\n",
       "family_medical_history_Diabetes                  bool\n",
       "family_medical_history_Heart disease             bool\n",
       "family_medical_history_High blood pressure       bool\n",
       "family_medical_history_Unknown                   bool\n",
       "exercise_frequency_Frequently                    bool\n",
       "exercise_frequency_Never                         bool\n",
       "exercise_frequency_Occasionally                  bool\n",
       "exercise_frequency_Rarely                        bool\n",
       "coverage_level_Basic                             bool\n",
       "coverage_level_Premium                           bool\n",
       "coverage_level_Standard                          bool\n",
       "dtype: object"
      ]
     },
     "execution_count": 135,
     "metadata": {},
     "output_type": "execute_result"
    }
   ],
   "source": [
    "df.dtypes"
   ]
  },
  {
   "cell_type": "code",
   "execution_count": 136,
   "metadata": {},
   "outputs": [
    {
     "name": "stdout",
     "output_type": "stream",
     "text": [
      "Linear Regression: MSE = 83488.78749592991, R-squared = 0.9957098823166866\n"
     ]
    }
   ],
   "source": [
    "# Import necessary libraries\n",
    "from sklearn.linear_model import LinearRegression, Ridge, Lasso\n",
    "from sklearn.metrics import mean_squared_error, r2_score\n",
    "from sklearn.model_selection import train_test_split\n",
    "from sklearn.preprocessing import StandardScaler\n",
    "import pandas as pd\n",
    "\n",
    "# Example: Split the data into features (X) and target (y)\n",
    "X = df.drop('charges', axis=1)  # Replace 'target_column' with your actual target column\n",
    "y = df['charges']\n",
    "\n",
    "# Split the dataset into training and testing sets\n",
    "X_train, X_test, y_train, y_test = train_test_split(X, y, test_size=0.2, random_state=42)\n",
    "\n",
    "# Standardize the features (important for regularization models like Ridge and Lasso)\n",
    "scaler = StandardScaler()\n",
    "X_train_scaled = scaler.fit_transform(X_train)\n",
    "X_test_scaled = scaler.transform(X_test)\n",
    "\n",
    "# 1. Linear Regression\n",
    "lin_reg = LinearRegression()\n",
    "lin_reg.fit(X_train_scaled, y_train)\n",
    "y_pred_lin_reg = lin_reg.predict(X_test_scaled)\n",
    "\n",
    "# Evaluate the models\n",
    "def evaluate_model(y_test, y_pred):\n",
    "    mse = mean_squared_error(y_test, y_pred)\n",
    "    r2 = r2_score(y_test, y_pred)\n",
    "    return mse, r2\n",
    "\n",
    "# Linear Regression Evaluation\n",
    "mse_lin_reg, r2_lin_reg = evaluate_model(y_test, y_pred_lin_reg)\n",
    "print(f\"Linear Regression: MSE = {mse_lin_reg}, R-squared = {r2_lin_reg}\")"
   ]
  }
 ],
 "metadata": {
  "kernelspec": {
   "display_name": "ML",
   "language": "python",
   "name": "python3"
  },
  "language_info": {
   "codemirror_mode": {
    "name": "ipython",
    "version": 3
   },
   "file_extension": ".py",
   "mimetype": "text/x-python",
   "name": "python",
   "nbconvert_exporter": "python",
   "pygments_lexer": "ipython3",
   "version": "3.10.16"
  }
 },
 "nbformat": 4,
 "nbformat_minor": 2
}
